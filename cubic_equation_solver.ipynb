{
  "nbformat": 4,
  "nbformat_minor": 0,
  "metadata": {
    "colab": {
      "provenance": [],
      "authorship_tag": "ABX9TyMU4w2fDDJUp1mmkZClH0qa",
      "include_colab_link": true
    },
    "kernelspec": {
      "name": "python3",
      "display_name": "Python 3"
    },
    "language_info": {
      "name": "python"
    }
  },
  "cells": [
    {
      "cell_type": "markdown",
      "metadata": {
        "id": "view-in-github",
        "colab_type": "text"
      },
      "source": [
        "<a href=\"https://colab.research.google.com/github/callmesidhu/ML-Cubic-Equation-Solver/blob/main/cubic_equation_solver.ipynb\" target=\"_parent\"><img src=\"https://colab.research.google.com/assets/colab-badge.svg\" alt=\"Open In Colab\"/></a>"
      ]
    },
    {
      "cell_type": "code",
      "execution_count": 13,
      "metadata": {
        "id": "BhiEGoHAGVX3"
      },
      "outputs": [],
      "source": [
        "from sympy import Symbol, solve\n",
        "import matplotlib.pyplot as plt"
      ]
    },
    {
      "cell_type": "code",
      "source": [
        "def relu(x):\n",
        "    return max(0.0, x)"
      ],
      "metadata": {
        "id": "Mm4th895GjBE"
      },
      "execution_count": 14,
      "outputs": []
    },
    {
      "cell_type": "code",
      "source": [
        "def solve_cubic_sgd_with_relu(a, b, c, d, learning_rate=0.01, num_iterations=1000):\n",
        "    x = 0.0\n",
        "    for i in range(num_iterations):\n",
        "        y = a * x**3 + b * x**2 + c * x + d\n",
        "        relu_y = relu(y)\n",
        "        grad_y = 3 * a * x**2 + 2 * b * x + c\n",
        "        gradient = 2 * relu_y * grad_y if relu_y > 0 else 0\n",
        "        x -= learning_rate * gradient\n",
        "    return x"
      ],
      "metadata": {
        "id": "9a2P2irPGqAt"
      },
      "execution_count": 15,
      "outputs": []
    },
    {
      "cell_type": "code",
      "source": [
        "def solve_cubic_sympy(a, b, c, d):\n",
        "    x = Symbol('x')\n",
        "    equation = a*x**3 + b*x**2 + c*x + d\n",
        "    return solve(equation, x)"
      ],
      "metadata": {
        "id": "rPe3c2MkGvRN"
      },
      "execution_count": 16,
      "outputs": []
    },
    {
      "cell_type": "code",
      "source": [
        "a = 1\n",
        "b = -1\n",
        "c = 2\n",
        "d = -1"
      ],
      "metadata": {
        "id": "Zy_jIqfBG2D9"
      },
      "execution_count": 17,
      "outputs": []
    },
    {
      "cell_type": "code",
      "source": [
        "solution_relu_sgd = solve_cubic_sgd_with_relu(a, b, c, d)\n",
        "print(\"SGD with ReLU Solution (approx):\", solution_relu_sgd)"
      ],
      "metadata": {
        "colab": {
          "base_uri": "https://localhost:8080/"
        },
        "id": "GJXgwov3HK5o",
        "outputId": "f8022255-3cf8-41e3-f666-48ab28d98562"
      },
      "execution_count": 18,
      "outputs": [
        {
          "output_type": "stream",
          "name": "stdout",
          "text": [
            "SGD with ReLU Solution (approx): 0.0\n"
          ]
        }
      ]
    },
    {
      "cell_type": "code",
      "source": [
        "sympy_solutions = solve_cubic_sympy(a, b, c, d)\n",
        "print(\"SymPy Solutions:\", sympy_solutions)"
      ],
      "metadata": {
        "colab": {
          "base_uri": "https://localhost:8080/"
        },
        "id": "rnox59ARHNmY",
        "outputId": "8aab0fb9-5ba5-4522-fb0c-d9792be8a4f8"
      },
      "execution_count": 19,
      "outputs": [
        {
          "output_type": "stream",
          "name": "stdout",
          "text": [
            "SymPy Solutions: [1/3 + (-1/2 - sqrt(3)*I/2)*(11/54 + sqrt(69)/18)**(1/3) - 5/(9*(-1/2 - sqrt(3)*I/2)*(11/54 + sqrt(69)/18)**(1/3)), 1/3 - 5/(9*(-1/2 + sqrt(3)*I/2)*(11/54 + sqrt(69)/18)**(1/3)) + (-1/2 + sqrt(3)*I/2)*(11/54 + sqrt(69)/18)**(1/3), -5/(9*(11/54 + sqrt(69)/18)**(1/3)) + 1/3 + (11/54 + sqrt(69)/18)**(1/3)]\n"
          ]
        }
      ]
    },
    {
      "cell_type": "markdown",
      "source": [
        "Visualization"
      ],
      "metadata": {
        "id": "SwbaZ9neHUWx"
      }
    },
    {
      "cell_type": "code",
      "source": [
        "def solve_cubic_sgd_with_tracking(a, b, c, d, learning_rate=0.01, num_iterations=1000):\n",
        "    x = 0.0\n",
        "    x_vals = []\n",
        "    for i in range(num_iterations):\n",
        "        y = a * x**3 + b * x**2 + c * x + d\n",
        "        relu_y = relu(y)\n",
        "        grad_y = 3 * a * x**2 + 2 * b * x + c\n",
        "        gradient = 2 * relu_y * grad_y if relu_y > 0 else 0\n",
        "        x -= learning_rate * gradient\n",
        "        x_vals.append(x)\n",
        "    return x, x_vals"
      ],
      "metadata": {
        "id": "9nawFY6RHWdZ"
      },
      "execution_count": 20,
      "outputs": []
    },
    {
      "cell_type": "code",
      "source": [
        "final_x, x_progression = solve_cubic_sgd_with_tracking(a, b, c, d)\n",
        "plt.plot(x_progression)\n",
        "plt.title(\"SGD ReLU: x over iterations\")\n",
        "plt.xlabel(\"Iteration\")\n",
        "plt.ylabel(\"x value\")\n",
        "plt.grid()\n",
        "plt.show()"
      ],
      "metadata": {
        "colab": {
          "base_uri": "https://localhost:8080/",
          "height": 472
        },
        "id": "UZjZgS-oHblh",
        "outputId": "a6f07d4c-164a-47ee-8cae-5ca5f9c09fad"
      },
      "execution_count": 21,
      "outputs": [
        {
          "output_type": "display_data",
          "data": {
            "text/plain": [
              "<Figure size 640x480 with 1 Axes>"
            ],
            "image/png": "[encoded data removed]"
          },
          "metadata": {}
        }
      ]
    }
  ]
}